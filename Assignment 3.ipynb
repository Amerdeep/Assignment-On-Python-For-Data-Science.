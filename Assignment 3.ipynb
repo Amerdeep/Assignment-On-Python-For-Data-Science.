{
 "cells": [
  {
   "cell_type": "markdown",
   "id": "a58b073d",
   "metadata": {},
   "source": [
    "# Assignment On Measures Of Central Tendency And Dispersion\n"
   ]
  },
  {
   "cell_type": "markdown",
   "id": "05a157e6",
   "metadata": {},
   "source": [
    "An Institution wishes to find out their student’s ability in mathematics, reading and writing skills. The Institution wants to do an exploratory study to check the following information."
   ]
  },
  {
   "cell_type": "markdown",
   "id": "c2ca19d1",
   "metadata": {},
   "source": [
    "#### Questions\n",
    "1. Find out how many males and females participated in the test.\n",
    "\n",
    "\n",
    "2. What do you think about the students' parental level of education?\n",
    "\n",
    "\n",
    "3. Who scores the most on average for math, reading and writing based on\n",
    "\n",
    "\n",
    "    ● Gender\n",
    "    \n",
    "    ● Test preparation course\n",
    "    \n",
    "    \n",
    "4. What do you think about the scoring variation for math, reading and writing based on\n",
    "\n",
    "\n",
    "    ● Gender\n",
    "   \n",
    "    ● Test preparation course  \n",
    "   \n",
    "   \n",
    "5. The management needs your help to give bonus points to the top 25% of students based on their math score, so how will you help the management to achieve this.   "
   ]
  },
  {
   "cell_type": "code",
   "execution_count": 1,
   "id": "4fb2979e",
   "metadata": {},
   "outputs": [],
   "source": [
    "import numpy as np\n",
    "import pandas as pd\n",
    "import matplotlib.pyplot as plt\n",
    "import seaborn as sns"
   ]
  },
  {
   "cell_type": "code",
   "execution_count": 2,
   "id": "60df1d89",
   "metadata": {},
   "outputs": [
    {
     "data": {
      "text/html": [
       "<div>\n",
       "<style scoped>\n",
       "    .dataframe tbody tr th:only-of-type {\n",
       "        vertical-align: middle;\n",
       "    }\n",
       "\n",
       "    .dataframe tbody tr th {\n",
       "        vertical-align: top;\n",
       "    }\n",
       "\n",
       "    .dataframe thead th {\n",
       "        text-align: right;\n",
       "    }\n",
       "</style>\n",
       "<table border=\"1\" class=\"dataframe\">\n",
       "  <thead>\n",
       "    <tr style=\"text-align: right;\">\n",
       "      <th></th>\n",
       "      <th>gender</th>\n",
       "      <th>race/ethnicity</th>\n",
       "      <th>parental level of education</th>\n",
       "      <th>lunch</th>\n",
       "      <th>test preparation course</th>\n",
       "      <th>math score</th>\n",
       "      <th>reading score</th>\n",
       "      <th>writing score</th>\n",
       "    </tr>\n",
       "  </thead>\n",
       "  <tbody>\n",
       "    <tr>\n",
       "      <th>0</th>\n",
       "      <td>female</td>\n",
       "      <td>group C</td>\n",
       "      <td>some high school</td>\n",
       "      <td>free/reduced</td>\n",
       "      <td>none</td>\n",
       "      <td>0</td>\n",
       "      <td>17</td>\n",
       "      <td>10</td>\n",
       "    </tr>\n",
       "    <tr>\n",
       "      <th>1</th>\n",
       "      <td>female</td>\n",
       "      <td>group B</td>\n",
       "      <td>high school</td>\n",
       "      <td>free/reduced</td>\n",
       "      <td>none</td>\n",
       "      <td>8</td>\n",
       "      <td>24</td>\n",
       "      <td>23</td>\n",
       "    </tr>\n",
       "    <tr>\n",
       "      <th>2</th>\n",
       "      <td>female</td>\n",
       "      <td>group B</td>\n",
       "      <td>some high school</td>\n",
       "      <td>free/reduced</td>\n",
       "      <td>none</td>\n",
       "      <td>18</td>\n",
       "      <td>32</td>\n",
       "      <td>28</td>\n",
       "    </tr>\n",
       "    <tr>\n",
       "      <th>3</th>\n",
       "      <td>female</td>\n",
       "      <td>group B</td>\n",
       "      <td>some college</td>\n",
       "      <td>standard</td>\n",
       "      <td>none</td>\n",
       "      <td>11</td>\n",
       "      <td>38</td>\n",
       "      <td>32</td>\n",
       "    </tr>\n",
       "    <tr>\n",
       "      <th>4</th>\n",
       "      <td>female</td>\n",
       "      <td>group C</td>\n",
       "      <td>some college</td>\n",
       "      <td>free/reduced</td>\n",
       "      <td>none</td>\n",
       "      <td>22</td>\n",
       "      <td>39</td>\n",
       "      <td>33</td>\n",
       "    </tr>\n",
       "    <tr>\n",
       "      <th>...</th>\n",
       "      <td>...</td>\n",
       "      <td>...</td>\n",
       "      <td>...</td>\n",
       "      <td>...</td>\n",
       "      <td>...</td>\n",
       "      <td>...</td>\n",
       "      <td>...</td>\n",
       "      <td>...</td>\n",
       "    </tr>\n",
       "    <tr>\n",
       "      <th>995</th>\n",
       "      <td>male</td>\n",
       "      <td>group E</td>\n",
       "      <td>some college</td>\n",
       "      <td>standard</td>\n",
       "      <td>completed</td>\n",
       "      <td>99</td>\n",
       "      <td>87</td>\n",
       "      <td>81</td>\n",
       "    </tr>\n",
       "    <tr>\n",
       "      <th>996</th>\n",
       "      <td>male</td>\n",
       "      <td>group A</td>\n",
       "      <td>some college</td>\n",
       "      <td>standard</td>\n",
       "      <td>completed</td>\n",
       "      <td>100</td>\n",
       "      <td>96</td>\n",
       "      <td>86</td>\n",
       "    </tr>\n",
       "    <tr>\n",
       "      <th>997</th>\n",
       "      <td>male</td>\n",
       "      <td>group D</td>\n",
       "      <td>some college</td>\n",
       "      <td>standard</td>\n",
       "      <td>completed</td>\n",
       "      <td>100</td>\n",
       "      <td>97</td>\n",
       "      <td>99</td>\n",
       "    </tr>\n",
       "    <tr>\n",
       "      <th>998</th>\n",
       "      <td>male</td>\n",
       "      <td>group E</td>\n",
       "      <td>associate's degree</td>\n",
       "      <td>free/reduced</td>\n",
       "      <td>completed</td>\n",
       "      <td>100</td>\n",
       "      <td>100</td>\n",
       "      <td>93</td>\n",
       "    </tr>\n",
       "    <tr>\n",
       "      <th>999</th>\n",
       "      <td>male</td>\n",
       "      <td>group E</td>\n",
       "      <td>bachelor's degree</td>\n",
       "      <td>standard</td>\n",
       "      <td>completed</td>\n",
       "      <td>100</td>\n",
       "      <td>100</td>\n",
       "      <td>100</td>\n",
       "    </tr>\n",
       "  </tbody>\n",
       "</table>\n",
       "<p>1000 rows × 8 columns</p>\n",
       "</div>"
      ],
      "text/plain": [
       "     gender race/ethnicity parental level of education         lunch  \\\n",
       "0    female        group C            some high school  free/reduced   \n",
       "1    female        group B                 high school  free/reduced   \n",
       "2    female        group B            some high school  free/reduced   \n",
       "3    female        group B                some college      standard   \n",
       "4    female        group C                some college  free/reduced   \n",
       "..      ...            ...                         ...           ...   \n",
       "995    male        group E                some college      standard   \n",
       "996    male        group A                some college      standard   \n",
       "997    male        group D                some college      standard   \n",
       "998    male        group E          associate's degree  free/reduced   \n",
       "999    male        group E           bachelor's degree      standard   \n",
       "\n",
       "    test preparation course  math score  reading score  writing score  \n",
       "0                      none           0             17             10  \n",
       "1                      none           8             24             23  \n",
       "2                      none          18             32             28  \n",
       "3                      none          11             38             32  \n",
       "4                      none          22             39             33  \n",
       "..                      ...         ...            ...            ...  \n",
       "995               completed          99             87             81  \n",
       "996               completed         100             96             86  \n",
       "997               completed         100             97             99  \n",
       "998               completed         100            100             93  \n",
       "999               completed         100            100            100  \n",
       "\n",
       "[1000 rows x 8 columns]"
      ]
     },
     "execution_count": 2,
     "metadata": {},
     "output_type": "execute_result"
    }
   ],
   "source": [
    "df=pd.read_csv(r\"C:\\Users\\illca\\Downloads\\StudentsPerformance.csv\")\n",
    "df"
   ]
  },
  {
   "cell_type": "markdown",
   "id": "2bc8b781",
   "metadata": {},
   "source": [
    "### 1.Find out how many males and females participated in the test."
   ]
  },
  {
   "cell_type": "code",
   "execution_count": 34,
   "id": "4ee846b0",
   "metadata": {
    "scrolled": true
   },
   "outputs": [
    {
     "data": {
      "text/plain": [
       "female    518\n",
       "male      482\n",
       "Name: gender, dtype: int64"
      ]
     },
     "execution_count": 34,
     "metadata": {},
     "output_type": "execute_result"
    }
   ],
   "source": [
    "df[\"gender\"].value_counts()"
   ]
  },
  {
   "cell_type": "markdown",
   "id": "0fb085be",
   "metadata": {},
   "source": [
    "#### Here we can see there are 518 Females and 482 Males participated in the test."
   ]
  },
  {
   "cell_type": "markdown",
   "id": "d4f19659",
   "metadata": {},
   "source": [
    "### 2. What do you think about the students' parental level of education?\n"
   ]
  },
  {
   "cell_type": "code",
   "execution_count": 4,
   "id": "4a22e34e",
   "metadata": {},
   "outputs": [
    {
     "data": {
      "text/html": [
       "<div>\n",
       "<style scoped>\n",
       "    .dataframe tbody tr th:only-of-type {\n",
       "        vertical-align: middle;\n",
       "    }\n",
       "\n",
       "    .dataframe tbody tr th {\n",
       "        vertical-align: top;\n",
       "    }\n",
       "\n",
       "    .dataframe thead tr th {\n",
       "        text-align: left;\n",
       "    }\n",
       "\n",
       "    .dataframe thead tr:last-of-type th {\n",
       "        text-align: right;\n",
       "    }\n",
       "</style>\n",
       "<table border=\"1\" class=\"dataframe\">\n",
       "  <thead>\n",
       "    <tr>\n",
       "      <th></th>\n",
       "      <th colspan=\"8\" halign=\"left\">math score</th>\n",
       "      <th colspan=\"5\" halign=\"left\">reading score</th>\n",
       "      <th colspan=\"8\" halign=\"left\">writing score</th>\n",
       "    </tr>\n",
       "    <tr>\n",
       "      <th></th>\n",
       "      <th>count</th>\n",
       "      <th>mean</th>\n",
       "      <th>std</th>\n",
       "      <th>min</th>\n",
       "      <th>25%</th>\n",
       "      <th>50%</th>\n",
       "      <th>75%</th>\n",
       "      <th>max</th>\n",
       "      <th>count</th>\n",
       "      <th>mean</th>\n",
       "      <th>...</th>\n",
       "      <th>75%</th>\n",
       "      <th>max</th>\n",
       "      <th>count</th>\n",
       "      <th>mean</th>\n",
       "      <th>std</th>\n",
       "      <th>min</th>\n",
       "      <th>25%</th>\n",
       "      <th>50%</th>\n",
       "      <th>75%</th>\n",
       "      <th>max</th>\n",
       "    </tr>\n",
       "    <tr>\n",
       "      <th>parental level of education</th>\n",
       "      <th></th>\n",
       "      <th></th>\n",
       "      <th></th>\n",
       "      <th></th>\n",
       "      <th></th>\n",
       "      <th></th>\n",
       "      <th></th>\n",
       "      <th></th>\n",
       "      <th></th>\n",
       "      <th></th>\n",
       "      <th></th>\n",
       "      <th></th>\n",
       "      <th></th>\n",
       "      <th></th>\n",
       "      <th></th>\n",
       "      <th></th>\n",
       "      <th></th>\n",
       "      <th></th>\n",
       "      <th></th>\n",
       "      <th></th>\n",
       "      <th></th>\n",
       "    </tr>\n",
       "  </thead>\n",
       "  <tbody>\n",
       "    <tr>\n",
       "      <th>associate's degree</th>\n",
       "      <td>222.0</td>\n",
       "      <td>67.977477</td>\n",
       "      <td>15.108190</td>\n",
       "      <td>26.0</td>\n",
       "      <td>57.00</td>\n",
       "      <td>67.0</td>\n",
       "      <td>80.0</td>\n",
       "      <td>100.0</td>\n",
       "      <td>222.0</td>\n",
       "      <td>71.018018</td>\n",
       "      <td>...</td>\n",
       "      <td>81.00</td>\n",
       "      <td>100.0</td>\n",
       "      <td>222.0</td>\n",
       "      <td>70.031532</td>\n",
       "      <td>14.260787</td>\n",
       "      <td>35.0</td>\n",
       "      <td>58.25</td>\n",
       "      <td>71.5</td>\n",
       "      <td>80.0</td>\n",
       "      <td>100.0</td>\n",
       "    </tr>\n",
       "    <tr>\n",
       "      <th>bachelor's degree</th>\n",
       "      <td>118.0</td>\n",
       "      <td>69.288136</td>\n",
       "      <td>15.164117</td>\n",
       "      <td>29.0</td>\n",
       "      <td>61.00</td>\n",
       "      <td>68.0</td>\n",
       "      <td>79.0</td>\n",
       "      <td>100.0</td>\n",
       "      <td>118.0</td>\n",
       "      <td>73.000000</td>\n",
       "      <td>...</td>\n",
       "      <td>82.75</td>\n",
       "      <td>100.0</td>\n",
       "      <td>118.0</td>\n",
       "      <td>73.381356</td>\n",
       "      <td>14.728262</td>\n",
       "      <td>38.0</td>\n",
       "      <td>62.50</td>\n",
       "      <td>74.0</td>\n",
       "      <td>83.0</td>\n",
       "      <td>100.0</td>\n",
       "    </tr>\n",
       "    <tr>\n",
       "      <th>high school</th>\n",
       "      <td>196.0</td>\n",
       "      <td>61.821429</td>\n",
       "      <td>15.160466</td>\n",
       "      <td>8.0</td>\n",
       "      <td>53.75</td>\n",
       "      <td>63.0</td>\n",
       "      <td>72.0</td>\n",
       "      <td>99.0</td>\n",
       "      <td>196.0</td>\n",
       "      <td>64.602041</td>\n",
       "      <td>...</td>\n",
       "      <td>74.25</td>\n",
       "      <td>99.0</td>\n",
       "      <td>196.0</td>\n",
       "      <td>62.403061</td>\n",
       "      <td>14.165172</td>\n",
       "      <td>15.0</td>\n",
       "      <td>52.00</td>\n",
       "      <td>64.0</td>\n",
       "      <td>73.0</td>\n",
       "      <td>100.0</td>\n",
       "    </tr>\n",
       "    <tr>\n",
       "      <th>master's degree</th>\n",
       "      <td>59.0</td>\n",
       "      <td>70.254237</td>\n",
       "      <td>14.843544</td>\n",
       "      <td>40.0</td>\n",
       "      <td>57.00</td>\n",
       "      <td>73.0</td>\n",
       "      <td>81.0</td>\n",
       "      <td>95.0</td>\n",
       "      <td>59.0</td>\n",
       "      <td>75.949153</td>\n",
       "      <td>...</td>\n",
       "      <td>84.50</td>\n",
       "      <td>100.0</td>\n",
       "      <td>59.0</td>\n",
       "      <td>75.677966</td>\n",
       "      <td>13.730711</td>\n",
       "      <td>46.0</td>\n",
       "      <td>67.00</td>\n",
       "      <td>75.0</td>\n",
       "      <td>85.0</td>\n",
       "      <td>100.0</td>\n",
       "    </tr>\n",
       "    <tr>\n",
       "      <th>some college</th>\n",
       "      <td>226.0</td>\n",
       "      <td>67.128319</td>\n",
       "      <td>14.871790</td>\n",
       "      <td>11.0</td>\n",
       "      <td>59.00</td>\n",
       "      <td>68.0</td>\n",
       "      <td>76.0</td>\n",
       "      <td>100.0</td>\n",
       "      <td>226.0</td>\n",
       "      <td>69.566372</td>\n",
       "      <td>...</td>\n",
       "      <td>80.00</td>\n",
       "      <td>100.0</td>\n",
       "      <td>226.0</td>\n",
       "      <td>69.035398</td>\n",
       "      <td>15.089911</td>\n",
       "      <td>19.0</td>\n",
       "      <td>60.00</td>\n",
       "      <td>70.0</td>\n",
       "      <td>79.0</td>\n",
       "      <td>99.0</td>\n",
       "    </tr>\n",
       "    <tr>\n",
       "      <th>some high school</th>\n",
       "      <td>179.0</td>\n",
       "      <td>63.134078</td>\n",
       "      <td>16.602894</td>\n",
       "      <td>0.0</td>\n",
       "      <td>53.00</td>\n",
       "      <td>65.0</td>\n",
       "      <td>74.0</td>\n",
       "      <td>97.0</td>\n",
       "      <td>179.0</td>\n",
       "      <td>66.759777</td>\n",
       "      <td>...</td>\n",
       "      <td>79.00</td>\n",
       "      <td>100.0</td>\n",
       "      <td>179.0</td>\n",
       "      <td>64.888268</td>\n",
       "      <td>15.736197</td>\n",
       "      <td>10.0</td>\n",
       "      <td>54.00</td>\n",
       "      <td>66.0</td>\n",
       "      <td>77.0</td>\n",
       "      <td>100.0</td>\n",
       "    </tr>\n",
       "  </tbody>\n",
       "</table>\n",
       "<p>6 rows × 24 columns</p>\n",
       "</div>"
      ],
      "text/plain": [
       "                            math score                                     \\\n",
       "                                 count       mean        std   min    25%   \n",
       "parental level of education                                                 \n",
       "associate's degree               222.0  67.977477  15.108190  26.0  57.00   \n",
       "bachelor's degree                118.0  69.288136  15.164117  29.0  61.00   \n",
       "high school                      196.0  61.821429  15.160466   8.0  53.75   \n",
       "master's degree                   59.0  70.254237  14.843544  40.0  57.00   \n",
       "some college                     226.0  67.128319  14.871790  11.0  59.00   \n",
       "some high school                 179.0  63.134078  16.602894   0.0  53.00   \n",
       "\n",
       "                                               reading score             ...  \\\n",
       "                              50%   75%    max         count       mean  ...   \n",
       "parental level of education                                              ...   \n",
       "associate's degree           67.0  80.0  100.0         222.0  71.018018  ...   \n",
       "bachelor's degree            68.0  79.0  100.0         118.0  73.000000  ...   \n",
       "high school                  63.0  72.0   99.0         196.0  64.602041  ...   \n",
       "master's degree              73.0  81.0   95.0          59.0  75.949153  ...   \n",
       "some college                 68.0  76.0  100.0         226.0  69.566372  ...   \n",
       "some high school             65.0  74.0   97.0         179.0  66.759777  ...   \n",
       "\n",
       "                                          writing score                        \\\n",
       "                               75%    max         count       mean        std   \n",
       "parental level of education                                                     \n",
       "associate's degree           81.00  100.0         222.0  70.031532  14.260787   \n",
       "bachelor's degree            82.75  100.0         118.0  73.381356  14.728262   \n",
       "high school                  74.25   99.0         196.0  62.403061  14.165172   \n",
       "master's degree              84.50  100.0          59.0  75.677966  13.730711   \n",
       "some college                 80.00  100.0         226.0  69.035398  15.089911   \n",
       "some high school             79.00  100.0         179.0  64.888268  15.736197   \n",
       "\n",
       "                                                             \n",
       "                              min    25%   50%   75%    max  \n",
       "parental level of education                                  \n",
       "associate's degree           35.0  58.25  71.5  80.0  100.0  \n",
       "bachelor's degree            38.0  62.50  74.0  83.0  100.0  \n",
       "high school                  15.0  52.00  64.0  73.0  100.0  \n",
       "master's degree              46.0  67.00  75.0  85.0  100.0  \n",
       "some college                 19.0  60.00  70.0  79.0   99.0  \n",
       "some high school             10.0  54.00  66.0  77.0  100.0  \n",
       "\n",
       "[6 rows x 24 columns]"
      ]
     },
     "execution_count": 4,
     "metadata": {},
     "output_type": "execute_result"
    }
   ],
   "source": [
    "Edu=df.groupby([\"parental level of education\"]).describe()\n",
    "Edu"
   ]
  },
  {
   "cell_type": "markdown",
   "id": "e79bace5",
   "metadata": {},
   "source": [
    "####  Taking students ' parental level of education' based on \"Math Score\""
   ]
  },
  {
   "cell_type": "code",
   "execution_count": 5,
   "id": "636b13c9",
   "metadata": {},
   "outputs": [
    {
     "data": {
      "text/plain": [
       "parental level of education\n",
       "master's degree       70.254237\n",
       "bachelor's degree     69.288136\n",
       "associate's degree    67.977477\n",
       "some college          67.128319\n",
       "some high school      63.134078\n",
       "Name: mean, dtype: float64"
      ]
     },
     "execution_count": 5,
     "metadata": {},
     "output_type": "execute_result"
    }
   ],
   "source": [
    "Math=Edu[\"math score\"]\n",
    "Math[\"mean\"].nlargest()"
   ]
  },
  {
   "cell_type": "markdown",
   "id": "51c55e53",
   "metadata": {},
   "source": [
    "####  Taking students ' parental level of education' based on \"Reading Score\""
   ]
  },
  {
   "cell_type": "code",
   "execution_count": 6,
   "id": "e8c91a25",
   "metadata": {},
   "outputs": [
    {
     "data": {
      "text/plain": [
       "parental level of education\n",
       "master's degree       75.949153\n",
       "bachelor's degree     73.000000\n",
       "associate's degree    71.018018\n",
       "some college          69.566372\n",
       "some high school      66.759777\n",
       "Name: mean, dtype: float64"
      ]
     },
     "execution_count": 6,
     "metadata": {},
     "output_type": "execute_result"
    }
   ],
   "source": [
    "Read=Edu[\"reading score\"]\n",
    "Read[\"mean\"].nlargest()"
   ]
  },
  {
   "cell_type": "markdown",
   "id": "5ddda97c",
   "metadata": {},
   "source": [
    "####  Taking students ' parental level of education' based on \"Writing Score\""
   ]
  },
  {
   "cell_type": "code",
   "execution_count": 7,
   "id": "ea716e81",
   "metadata": {},
   "outputs": [
    {
     "data": {
      "text/plain": [
       "parental level of education\n",
       "master's degree       75.677966\n",
       "bachelor's degree     73.381356\n",
       "associate's degree    70.031532\n",
       "some college          69.035398\n",
       "some high school      64.888268\n",
       "Name: mean, dtype: float64"
      ]
     },
     "execution_count": 7,
     "metadata": {},
     "output_type": "execute_result"
    }
   ],
   "source": [
    "Write=Edu[\"writing score\"]\n",
    "Write[\"mean\"].nlargest()"
   ]
  },
  {
   "cell_type": "markdown",
   "id": "358c2af3",
   "metadata": {},
   "source": [
    "#### Conclusion\n",
    "we can see from the above result by considering the students parental level of education based on Maths, Reading and Writing Score that the students having \"master's degree\" as parental level has performed more."
   ]
  },
  {
   "cell_type": "markdown",
   "id": "6fde519e",
   "metadata": {},
   "source": [
    "### 3.Who scores the most on average for math, reading and writing based on\n",
    "### ● Gender\n"
   ]
  },
  {
   "cell_type": "code",
   "execution_count": 8,
   "id": "4908df56",
   "metadata": {},
   "outputs": [],
   "source": [
    "# TO find the average we have to find the mean()"
   ]
  },
  {
   "cell_type": "code",
   "execution_count": 9,
   "id": "546f93d2",
   "metadata": {},
   "outputs": [
    {
     "data": {
      "text/html": [
       "<div>\n",
       "<style scoped>\n",
       "    .dataframe tbody tr th:only-of-type {\n",
       "        vertical-align: middle;\n",
       "    }\n",
       "\n",
       "    .dataframe tbody tr th {\n",
       "        vertical-align: top;\n",
       "    }\n",
       "\n",
       "    .dataframe thead tr th {\n",
       "        text-align: left;\n",
       "    }\n",
       "\n",
       "    .dataframe thead tr:last-of-type th {\n",
       "        text-align: right;\n",
       "    }\n",
       "</style>\n",
       "<table border=\"1\" class=\"dataframe\">\n",
       "  <thead>\n",
       "    <tr>\n",
       "      <th></th>\n",
       "      <th colspan=\"8\" halign=\"left\">math score</th>\n",
       "      <th colspan=\"5\" halign=\"left\">reading score</th>\n",
       "      <th colspan=\"8\" halign=\"left\">writing score</th>\n",
       "    </tr>\n",
       "    <tr>\n",
       "      <th></th>\n",
       "      <th>count</th>\n",
       "      <th>mean</th>\n",
       "      <th>std</th>\n",
       "      <th>min</th>\n",
       "      <th>25%</th>\n",
       "      <th>50%</th>\n",
       "      <th>75%</th>\n",
       "      <th>max</th>\n",
       "      <th>count</th>\n",
       "      <th>mean</th>\n",
       "      <th>...</th>\n",
       "      <th>75%</th>\n",
       "      <th>max</th>\n",
       "      <th>count</th>\n",
       "      <th>mean</th>\n",
       "      <th>std</th>\n",
       "      <th>min</th>\n",
       "      <th>25%</th>\n",
       "      <th>50%</th>\n",
       "      <th>75%</th>\n",
       "      <th>max</th>\n",
       "    </tr>\n",
       "    <tr>\n",
       "      <th>gender</th>\n",
       "      <th></th>\n",
       "      <th></th>\n",
       "      <th></th>\n",
       "      <th></th>\n",
       "      <th></th>\n",
       "      <th></th>\n",
       "      <th></th>\n",
       "      <th></th>\n",
       "      <th></th>\n",
       "      <th></th>\n",
       "      <th></th>\n",
       "      <th></th>\n",
       "      <th></th>\n",
       "      <th></th>\n",
       "      <th></th>\n",
       "      <th></th>\n",
       "      <th></th>\n",
       "      <th></th>\n",
       "      <th></th>\n",
       "      <th></th>\n",
       "      <th></th>\n",
       "    </tr>\n",
       "  </thead>\n",
       "  <tbody>\n",
       "    <tr>\n",
       "      <th>female</th>\n",
       "      <td>518.0</td>\n",
       "      <td>63.376448</td>\n",
       "      <td>16.029928</td>\n",
       "      <td>0.0</td>\n",
       "      <td>54.0</td>\n",
       "      <td>65.0</td>\n",
       "      <td>74.0</td>\n",
       "      <td>100.0</td>\n",
       "      <td>518.0</td>\n",
       "      <td>72.590734</td>\n",
       "      <td>...</td>\n",
       "      <td>83.0</td>\n",
       "      <td>100.0</td>\n",
       "      <td>518.0</td>\n",
       "      <td>72.467181</td>\n",
       "      <td>14.844842</td>\n",
       "      <td>10.0</td>\n",
       "      <td>64.0</td>\n",
       "      <td>74.0</td>\n",
       "      <td>82.0</td>\n",
       "      <td>100.0</td>\n",
       "    </tr>\n",
       "    <tr>\n",
       "      <th>male</th>\n",
       "      <td>482.0</td>\n",
       "      <td>68.821577</td>\n",
       "      <td>14.556411</td>\n",
       "      <td>27.0</td>\n",
       "      <td>59.0</td>\n",
       "      <td>69.0</td>\n",
       "      <td>79.0</td>\n",
       "      <td>100.0</td>\n",
       "      <td>482.0</td>\n",
       "      <td>65.545643</td>\n",
       "      <td>...</td>\n",
       "      <td>76.0</td>\n",
       "      <td>100.0</td>\n",
       "      <td>482.0</td>\n",
       "      <td>63.446058</td>\n",
       "      <td>14.227225</td>\n",
       "      <td>15.0</td>\n",
       "      <td>53.0</td>\n",
       "      <td>64.0</td>\n",
       "      <td>74.0</td>\n",
       "      <td>100.0</td>\n",
       "    </tr>\n",
       "  </tbody>\n",
       "</table>\n",
       "<p>2 rows × 24 columns</p>\n",
       "</div>"
      ],
      "text/plain": [
       "       math score                                                       \\\n",
       "            count       mean        std   min   25%   50%   75%    max   \n",
       "gender                                                                   \n",
       "female      518.0  63.376448  16.029928   0.0  54.0  65.0  74.0  100.0   \n",
       "male        482.0  68.821577  14.556411  27.0  59.0  69.0  79.0  100.0   \n",
       "\n",
       "       reading score             ...              writing score             \\\n",
       "               count       mean  ...   75%    max         count       mean   \n",
       "gender                           ...                                         \n",
       "female         518.0  72.590734  ...  83.0  100.0         518.0  72.467181   \n",
       "male           482.0  65.545643  ...  76.0  100.0         482.0  63.446058   \n",
       "\n",
       "                                                  \n",
       "              std   min   25%   50%   75%    max  \n",
       "gender                                            \n",
       "female  14.844842  10.0  64.0  74.0  82.0  100.0  \n",
       "male    14.227225  15.0  53.0  64.0  74.0  100.0  \n",
       "\n",
       "[2 rows x 24 columns]"
      ]
     },
     "execution_count": 9,
     "metadata": {},
     "output_type": "execute_result"
    }
   ],
   "source": [
    "Gen=df.groupby([\"gender\"]).describe()\n",
    "Gen"
   ]
  },
  {
   "cell_type": "markdown",
   "id": "5d3a04fc",
   "metadata": {},
   "source": [
    "#### Taking students ' Gender' based on \"Math Score\""
   ]
  },
  {
   "cell_type": "code",
   "execution_count": 10,
   "id": "5b29649e",
   "metadata": {},
   "outputs": [
    {
     "data": {
      "text/plain": [
       "gender\n",
       "male      68.821577\n",
       "female    63.376448\n",
       "Name: mean, dtype: float64"
      ]
     },
     "execution_count": 10,
     "metadata": {},
     "output_type": "execute_result"
    }
   ],
   "source": [
    "Genmath=Gen[\"math score\"]\n",
    "Genmath[\"mean\"].nlargest()\n"
   ]
  },
  {
   "cell_type": "markdown",
   "id": "d627edd4",
   "metadata": {},
   "source": [
    "#### Taking students ' Gender' based on \"Reading Score\""
   ]
  },
  {
   "cell_type": "code",
   "execution_count": 11,
   "id": "dea6aa3a",
   "metadata": {},
   "outputs": [
    {
     "data": {
      "text/plain": [
       "gender\n",
       "female    72.590734\n",
       "male      65.545643\n",
       "Name: mean, dtype: float64"
      ]
     },
     "execution_count": 11,
     "metadata": {},
     "output_type": "execute_result"
    }
   ],
   "source": [
    "Genread=Gen[\"reading score\"]\n",
    "Genread[\"mean\"].nlargest()\n"
   ]
  },
  {
   "cell_type": "markdown",
   "id": "5ccdbaea",
   "metadata": {},
   "source": [
    "#### Taking students ' Gender' based on \"Writing Score\""
   ]
  },
  {
   "cell_type": "code",
   "execution_count": 12,
   "id": "9afd0e45",
   "metadata": {},
   "outputs": [
    {
     "data": {
      "text/plain": [
       "gender\n",
       "female    72.467181\n",
       "male      63.446058\n",
       "Name: mean, dtype: float64"
      ]
     },
     "execution_count": 12,
     "metadata": {},
     "output_type": "execute_result"
    }
   ],
   "source": [
    "Genwrite=Gen[\"writing score\"]\n",
    "Genwrite[\"mean\"].nlargest()"
   ]
  },
  {
   "cell_type": "markdown",
   "id": "9876e0eb",
   "metadata": {},
   "source": [
    "#### Conclusion\n",
    "we can see from the above result by considering the gender on average scored on Maths, Reading Score and Writing Score that the  Female students have performed more in reading and writing and male performed more in math."
   ]
  },
  {
   "cell_type": "markdown",
   "id": "70e2443a",
   "metadata": {},
   "source": [
    "### ● Test preparation course"
   ]
  },
  {
   "cell_type": "code",
   "execution_count": 13,
   "id": "2890fe56",
   "metadata": {},
   "outputs": [
    {
     "data": {
      "text/html": [
       "<div>\n",
       "<style scoped>\n",
       "    .dataframe tbody tr th:only-of-type {\n",
       "        vertical-align: middle;\n",
       "    }\n",
       "\n",
       "    .dataframe tbody tr th {\n",
       "        vertical-align: top;\n",
       "    }\n",
       "\n",
       "    .dataframe thead tr th {\n",
       "        text-align: left;\n",
       "    }\n",
       "\n",
       "    .dataframe thead tr:last-of-type th {\n",
       "        text-align: right;\n",
       "    }\n",
       "</style>\n",
       "<table border=\"1\" class=\"dataframe\">\n",
       "  <thead>\n",
       "    <tr>\n",
       "      <th></th>\n",
       "      <th colspan=\"8\" halign=\"left\">math score</th>\n",
       "      <th colspan=\"5\" halign=\"left\">reading score</th>\n",
       "      <th colspan=\"8\" halign=\"left\">writing score</th>\n",
       "    </tr>\n",
       "    <tr>\n",
       "      <th></th>\n",
       "      <th>count</th>\n",
       "      <th>mean</th>\n",
       "      <th>std</th>\n",
       "      <th>min</th>\n",
       "      <th>25%</th>\n",
       "      <th>50%</th>\n",
       "      <th>75%</th>\n",
       "      <th>max</th>\n",
       "      <th>count</th>\n",
       "      <th>mean</th>\n",
       "      <th>...</th>\n",
       "      <th>75%</th>\n",
       "      <th>max</th>\n",
       "      <th>count</th>\n",
       "      <th>mean</th>\n",
       "      <th>std</th>\n",
       "      <th>min</th>\n",
       "      <th>25%</th>\n",
       "      <th>50%</th>\n",
       "      <th>75%</th>\n",
       "      <th>max</th>\n",
       "    </tr>\n",
       "    <tr>\n",
       "      <th>test preparation course</th>\n",
       "      <th></th>\n",
       "      <th></th>\n",
       "      <th></th>\n",
       "      <th></th>\n",
       "      <th></th>\n",
       "      <th></th>\n",
       "      <th></th>\n",
       "      <th></th>\n",
       "      <th></th>\n",
       "      <th></th>\n",
       "      <th></th>\n",
       "      <th></th>\n",
       "      <th></th>\n",
       "      <th></th>\n",
       "      <th></th>\n",
       "      <th></th>\n",
       "      <th></th>\n",
       "      <th></th>\n",
       "      <th></th>\n",
       "      <th></th>\n",
       "      <th></th>\n",
       "    </tr>\n",
       "  </thead>\n",
       "  <tbody>\n",
       "    <tr>\n",
       "      <th>completed</th>\n",
       "      <td>358.0</td>\n",
       "      <td>69.96648</td>\n",
       "      <td>14.521847</td>\n",
       "      <td>23.0</td>\n",
       "      <td>61.0</td>\n",
       "      <td>70.0</td>\n",
       "      <td>79.0</td>\n",
       "      <td>100.0</td>\n",
       "      <td>358.0</td>\n",
       "      <td>74.175978</td>\n",
       "      <td>...</td>\n",
       "      <td>84.0</td>\n",
       "      <td>100.0</td>\n",
       "      <td>358.0</td>\n",
       "      <td>74.684358</td>\n",
       "      <td>13.236412</td>\n",
       "      <td>36.0</td>\n",
       "      <td>67.0</td>\n",
       "      <td>76.0</td>\n",
       "      <td>83.75</td>\n",
       "      <td>100.0</td>\n",
       "    </tr>\n",
       "    <tr>\n",
       "      <th>none</th>\n",
       "      <td>642.0</td>\n",
       "      <td>63.78972</td>\n",
       "      <td>15.705689</td>\n",
       "      <td>0.0</td>\n",
       "      <td>54.0</td>\n",
       "      <td>64.0</td>\n",
       "      <td>74.0</td>\n",
       "      <td>100.0</td>\n",
       "      <td>642.0</td>\n",
       "      <td>66.417445</td>\n",
       "      <td>...</td>\n",
       "      <td>76.0</td>\n",
       "      <td>100.0</td>\n",
       "      <td>642.0</td>\n",
       "      <td>64.457944</td>\n",
       "      <td>15.041667</td>\n",
       "      <td>10.0</td>\n",
       "      <td>54.0</td>\n",
       "      <td>65.0</td>\n",
       "      <td>74.00</td>\n",
       "      <td>100.0</td>\n",
       "    </tr>\n",
       "  </tbody>\n",
       "</table>\n",
       "<p>2 rows × 24 columns</p>\n",
       "</div>"
      ],
      "text/plain": [
       "                        math score                                         \\\n",
       "                             count      mean        std   min   25%   50%   \n",
       "test preparation course                                                     \n",
       "completed                    358.0  69.96648  14.521847  23.0  61.0  70.0   \n",
       "none                         642.0  63.78972  15.705689   0.0  54.0  64.0   \n",
       "\n",
       "                                     reading score             ...        \\\n",
       "                          75%    max         count       mean  ...   75%   \n",
       "test preparation course                                        ...         \n",
       "completed                79.0  100.0         358.0  74.175978  ...  84.0   \n",
       "none                     74.0  100.0         642.0  66.417445  ...  76.0   \n",
       "\n",
       "                               writing score                              \\\n",
       "                           max         count       mean        std   min   \n",
       "test preparation course                                                    \n",
       "completed                100.0         358.0  74.684358  13.236412  36.0   \n",
       "none                     100.0         642.0  64.457944  15.041667  10.0   \n",
       "\n",
       "                                                   \n",
       "                          25%   50%    75%    max  \n",
       "test preparation course                            \n",
       "completed                67.0  76.0  83.75  100.0  \n",
       "none                     54.0  65.0  74.00  100.0  \n",
       "\n",
       "[2 rows x 24 columns]"
      ]
     },
     "execution_count": 13,
     "metadata": {},
     "output_type": "execute_result"
    }
   ],
   "source": [
    "Test=df.groupby([\"test preparation course\"]).describe()\n",
    "Test"
   ]
  },
  {
   "cell_type": "markdown",
   "id": "a7199018",
   "metadata": {},
   "source": [
    "#### For Math Score"
   ]
  },
  {
   "cell_type": "code",
   "execution_count": 14,
   "id": "6c3c12ad",
   "metadata": {},
   "outputs": [
    {
     "data": {
      "text/plain": [
       "test preparation course\n",
       "completed    69.96648\n",
       "none         63.78972\n",
       "Name: math score, dtype: float64"
      ]
     },
     "execution_count": 14,
     "metadata": {},
     "output_type": "execute_result"
    }
   ],
   "source": [
    "df.groupby([\"test preparation course\"])[\"math score\"].mean()"
   ]
  },
  {
   "cell_type": "markdown",
   "id": "a0b89ae6",
   "metadata": {},
   "source": [
    "#### For Reading Score"
   ]
  },
  {
   "cell_type": "code",
   "execution_count": 15,
   "id": "89ac251a",
   "metadata": {},
   "outputs": [
    {
     "data": {
      "text/plain": [
       "test preparation course\n",
       "completed    74.175978\n",
       "none         66.417445\n",
       "Name: reading score, dtype: float64"
      ]
     },
     "execution_count": 15,
     "metadata": {},
     "output_type": "execute_result"
    }
   ],
   "source": [
    "df.groupby([\"test preparation course\"])[\"reading score\"].mean()"
   ]
  },
  {
   "cell_type": "markdown",
   "id": "937ea26c",
   "metadata": {},
   "source": [
    "#### For Writing Score"
   ]
  },
  {
   "cell_type": "code",
   "execution_count": 16,
   "id": "77395991",
   "metadata": {},
   "outputs": [
    {
     "data": {
      "text/plain": [
       "test preparation course\n",
       "completed    74.684358\n",
       "none         64.457944\n",
       "Name: writing score, dtype: float64"
      ]
     },
     "execution_count": 16,
     "metadata": {},
     "output_type": "execute_result"
    }
   ],
   "source": [
    "df.groupby([\"test preparation course\"])[\"writing score\"].mean()"
   ]
  },
  {
   "cell_type": "markdown",
   "id": "158bbc9c",
   "metadata": {},
   "source": [
    "#### Conclusion\n",
    "we can see from the above that the students who completed test preparation course have performed well on average for math,reading and writing."
   ]
  },
  {
   "cell_type": "markdown",
   "id": "6f641bdd",
   "metadata": {},
   "source": [
    "### 4. What do you think about the scoring variation for math, reading and writing based on\n",
    "### ● Gender\n"
   ]
  },
  {
   "cell_type": "code",
   "execution_count": 17,
   "id": "e4d5de9c",
   "metadata": {},
   "outputs": [],
   "source": [
    "# In order to find scoring variation we must find the standard deviation"
   ]
  },
  {
   "cell_type": "markdown",
   "id": "9a9d339c",
   "metadata": {},
   "source": [
    "#### Math Score"
   ]
  },
  {
   "cell_type": "code",
   "execution_count": 39,
   "id": "177ca2a5",
   "metadata": {},
   "outputs": [
    {
     "data": {
      "text/html": [
       "<div>\n",
       "<style scoped>\n",
       "    .dataframe tbody tr th:only-of-type {\n",
       "        vertical-align: middle;\n",
       "    }\n",
       "\n",
       "    .dataframe tbody tr th {\n",
       "        vertical-align: top;\n",
       "    }\n",
       "\n",
       "    .dataframe thead th {\n",
       "        text-align: right;\n",
       "    }\n",
       "</style>\n",
       "<table border=\"1\" class=\"dataframe\">\n",
       "  <thead>\n",
       "    <tr style=\"text-align: right;\">\n",
       "      <th></th>\n",
       "      <th>math score</th>\n",
       "    </tr>\n",
       "    <tr>\n",
       "      <th>gender</th>\n",
       "      <th></th>\n",
       "    </tr>\n",
       "  </thead>\n",
       "  <tbody>\n",
       "    <tr>\n",
       "      <th>female</th>\n",
       "      <td>16.029928</td>\n",
       "    </tr>\n",
       "    <tr>\n",
       "      <th>male</th>\n",
       "      <td>14.556411</td>\n",
       "    </tr>\n",
       "  </tbody>\n",
       "</table>\n",
       "</div>"
      ],
      "text/plain": [
       "        math score\n",
       "gender            \n",
       "female   16.029928\n",
       "male     14.556411"
      ]
     },
     "execution_count": 39,
     "metadata": {},
     "output_type": "execute_result"
    }
   ],
   "source": [
    "df[[\"gender\",\"math score\"]].groupby(\"gender\").std()"
   ]
  },
  {
   "cell_type": "markdown",
   "id": "63ecbf3e",
   "metadata": {},
   "source": [
    "#### Reading Score"
   ]
  },
  {
   "cell_type": "code",
   "execution_count": 38,
   "id": "6cf0cd4d",
   "metadata": {},
   "outputs": [
    {
     "data": {
      "text/html": [
       "<div>\n",
       "<style scoped>\n",
       "    .dataframe tbody tr th:only-of-type {\n",
       "        vertical-align: middle;\n",
       "    }\n",
       "\n",
       "    .dataframe tbody tr th {\n",
       "        vertical-align: top;\n",
       "    }\n",
       "\n",
       "    .dataframe thead th {\n",
       "        text-align: right;\n",
       "    }\n",
       "</style>\n",
       "<table border=\"1\" class=\"dataframe\">\n",
       "  <thead>\n",
       "    <tr style=\"text-align: right;\">\n",
       "      <th></th>\n",
       "      <th>reading score</th>\n",
       "    </tr>\n",
       "    <tr>\n",
       "      <th>gender</th>\n",
       "      <th></th>\n",
       "    </tr>\n",
       "  </thead>\n",
       "  <tbody>\n",
       "    <tr>\n",
       "      <th>female</th>\n",
       "      <td>14.411018</td>\n",
       "    </tr>\n",
       "    <tr>\n",
       "      <th>male</th>\n",
       "      <td>14.149594</td>\n",
       "    </tr>\n",
       "  </tbody>\n",
       "</table>\n",
       "</div>"
      ],
      "text/plain": [
       "        reading score\n",
       "gender               \n",
       "female      14.411018\n",
       "male        14.149594"
      ]
     },
     "execution_count": 38,
     "metadata": {},
     "output_type": "execute_result"
    }
   ],
   "source": [
    "df[[\"gender\",\"reading score\"]].groupby(\"gender\").std()"
   ]
  },
  {
   "cell_type": "markdown",
   "id": "e0507efc",
   "metadata": {},
   "source": [
    "#### Writing Score"
   ]
  },
  {
   "cell_type": "code",
   "execution_count": 69,
   "id": "5f64fc84",
   "metadata": {},
   "outputs": [
    {
     "data": {
      "text/html": [
       "<div>\n",
       "<style scoped>\n",
       "    .dataframe tbody tr th:only-of-type {\n",
       "        vertical-align: middle;\n",
       "    }\n",
       "\n",
       "    .dataframe tbody tr th {\n",
       "        vertical-align: top;\n",
       "    }\n",
       "\n",
       "    .dataframe thead th {\n",
       "        text-align: right;\n",
       "    }\n",
       "</style>\n",
       "<table border=\"1\" class=\"dataframe\">\n",
       "  <thead>\n",
       "    <tr style=\"text-align: right;\">\n",
       "      <th></th>\n",
       "      <th>writing score</th>\n",
       "    </tr>\n",
       "    <tr>\n",
       "      <th>gender</th>\n",
       "      <th></th>\n",
       "    </tr>\n",
       "  </thead>\n",
       "  <tbody>\n",
       "    <tr>\n",
       "      <th>female</th>\n",
       "      <td>14.844842</td>\n",
       "    </tr>\n",
       "    <tr>\n",
       "      <th>male</th>\n",
       "      <td>14.227225</td>\n",
       "    </tr>\n",
       "  </tbody>\n",
       "</table>\n",
       "</div>"
      ],
      "text/plain": [
       "        writing score\n",
       "gender               \n",
       "female      14.844842\n",
       "male        14.227225"
      ]
     },
     "execution_count": 69,
     "metadata": {},
     "output_type": "execute_result"
    }
   ],
   "source": [
    "df[[\"gender\",\"writing score\"]].groupby(\"gender\").std()"
   ]
  },
  {
   "cell_type": "markdown",
   "id": "13208d05",
   "metadata": {},
   "source": [
    "####  \n",
    "Here from the above result by considering \"Gender\" based on scoring variation in Math,reading and writing score, we can see that Female students have More scoring variation than male students."
   ]
  },
  {
   "cell_type": "markdown",
   "id": "424525c4",
   "metadata": {},
   "source": [
    "### ● Test preparation course\n"
   ]
  },
  {
   "cell_type": "markdown",
   "id": "274ab7e3",
   "metadata": {},
   "source": [
    "#### Math Score"
   ]
  },
  {
   "cell_type": "code",
   "execution_count": 40,
   "id": "9c5399b8",
   "metadata": {},
   "outputs": [
    {
     "data": {
      "text/html": [
       "<div>\n",
       "<style scoped>\n",
       "    .dataframe tbody tr th:only-of-type {\n",
       "        vertical-align: middle;\n",
       "    }\n",
       "\n",
       "    .dataframe tbody tr th {\n",
       "        vertical-align: top;\n",
       "    }\n",
       "\n",
       "    .dataframe thead th {\n",
       "        text-align: right;\n",
       "    }\n",
       "</style>\n",
       "<table border=\"1\" class=\"dataframe\">\n",
       "  <thead>\n",
       "    <tr style=\"text-align: right;\">\n",
       "      <th></th>\n",
       "      <th>math score</th>\n",
       "    </tr>\n",
       "    <tr>\n",
       "      <th>test preparation course</th>\n",
       "      <th></th>\n",
       "    </tr>\n",
       "  </thead>\n",
       "  <tbody>\n",
       "    <tr>\n",
       "      <th>completed</th>\n",
       "      <td>14.521847</td>\n",
       "    </tr>\n",
       "    <tr>\n",
       "      <th>none</th>\n",
       "      <td>15.705689</td>\n",
       "    </tr>\n",
       "  </tbody>\n",
       "</table>\n",
       "</div>"
      ],
      "text/plain": [
       "                         math score\n",
       "test preparation course            \n",
       "completed                 14.521847\n",
       "none                      15.705689"
      ]
     },
     "execution_count": 40,
     "metadata": {},
     "output_type": "execute_result"
    }
   ],
   "source": [
    "df[[\"test preparation course\",\"math score\"]].groupby(\"test preparation course\").std()"
   ]
  },
  {
   "cell_type": "markdown",
   "id": "4f1c38f0",
   "metadata": {},
   "source": [
    "#### Reading Score"
   ]
  },
  {
   "cell_type": "code",
   "execution_count": 41,
   "id": "7bb088f5",
   "metadata": {},
   "outputs": [
    {
     "data": {
      "text/html": [
       "<div>\n",
       "<style scoped>\n",
       "    .dataframe tbody tr th:only-of-type {\n",
       "        vertical-align: middle;\n",
       "    }\n",
       "\n",
       "    .dataframe tbody tr th {\n",
       "        vertical-align: top;\n",
       "    }\n",
       "\n",
       "    .dataframe thead th {\n",
       "        text-align: right;\n",
       "    }\n",
       "</style>\n",
       "<table border=\"1\" class=\"dataframe\">\n",
       "  <thead>\n",
       "    <tr style=\"text-align: right;\">\n",
       "      <th></th>\n",
       "      <th>reading score</th>\n",
       "    </tr>\n",
       "    <tr>\n",
       "      <th>test preparation course</th>\n",
       "      <th></th>\n",
       "    </tr>\n",
       "  </thead>\n",
       "  <tbody>\n",
       "    <tr>\n",
       "      <th>completed</th>\n",
       "      <td>13.537572</td>\n",
       "    </tr>\n",
       "    <tr>\n",
       "      <th>none</th>\n",
       "      <td>14.608896</td>\n",
       "    </tr>\n",
       "  </tbody>\n",
       "</table>\n",
       "</div>"
      ],
      "text/plain": [
       "                         reading score\n",
       "test preparation course               \n",
       "completed                    13.537572\n",
       "none                         14.608896"
      ]
     },
     "execution_count": 41,
     "metadata": {},
     "output_type": "execute_result"
    }
   ],
   "source": [
    "df[[\"test preparation course\",\"reading score\"]].groupby(\"test preparation course\").std()"
   ]
  },
  {
   "cell_type": "markdown",
   "id": "6761285b",
   "metadata": {},
   "source": [
    "#### Writing Score"
   ]
  },
  {
   "cell_type": "code",
   "execution_count": 67,
   "id": "c3f54aaf",
   "metadata": {},
   "outputs": [
    {
     "data": {
      "text/html": [
       "<div>\n",
       "<style scoped>\n",
       "    .dataframe tbody tr th:only-of-type {\n",
       "        vertical-align: middle;\n",
       "    }\n",
       "\n",
       "    .dataframe tbody tr th {\n",
       "        vertical-align: top;\n",
       "    }\n",
       "\n",
       "    .dataframe thead th {\n",
       "        text-align: right;\n",
       "    }\n",
       "</style>\n",
       "<table border=\"1\" class=\"dataframe\">\n",
       "  <thead>\n",
       "    <tr style=\"text-align: right;\">\n",
       "      <th></th>\n",
       "      <th>writing score</th>\n",
       "    </tr>\n",
       "    <tr>\n",
       "      <th>test preparation course</th>\n",
       "      <th></th>\n",
       "    </tr>\n",
       "  </thead>\n",
       "  <tbody>\n",
       "    <tr>\n",
       "      <th>completed</th>\n",
       "      <td>13.236412</td>\n",
       "    </tr>\n",
       "    <tr>\n",
       "      <th>none</th>\n",
       "      <td>15.041667</td>\n",
       "    </tr>\n",
       "  </tbody>\n",
       "</table>\n",
       "</div>"
      ],
      "text/plain": [
       "                         writing score\n",
       "test preparation course               \n",
       "completed                    13.236412\n",
       "none                         15.041667"
      ]
     },
     "execution_count": 67,
     "metadata": {},
     "output_type": "execute_result"
    }
   ],
   "source": [
    "df[[\"test preparation course\",\"writing score\"]].groupby(\"test preparation course\").std()"
   ]
  },
  {
   "cell_type": "markdown",
   "id": "d41554db",
   "metadata": {},
   "source": [
    "#### \n",
    "Here from the above result by considering \"Test Prepation Course\" based on scoring variation in Math,reading and eriting score, we can see that The variation between those who completed and none are more or less the same."
   ]
  },
  {
   "cell_type": "markdown",
   "id": "e8cd7ca8",
   "metadata": {},
   "source": [
    "###  5. The management needs your help to give bonus points to the top 25% of \n",
    "### students based on their math score, so how will you help the management to achieve this."
   ]
  },
  {
   "cell_type": "code",
   "execution_count": 24,
   "id": "5f40b201",
   "metadata": {},
   "outputs": [
    {
     "data": {
      "text/plain": [
       "(1000, 8)"
      ]
     },
     "execution_count": 24,
     "metadata": {},
     "output_type": "execute_result"
    }
   ],
   "source": [
    "df.shape"
   ]
  },
  {
   "cell_type": "code",
   "execution_count": 43,
   "id": "9c7a805a",
   "metadata": {},
   "outputs": [],
   "source": [
    "# Here we can see that their are 1000 students data so, 25% means \"1000*0.25=250\", so there will be 250 students."
   ]
  },
  {
   "cell_type": "code",
   "execution_count": 65,
   "id": "e67becfa",
   "metadata": {},
   "outputs": [
    {
     "data": {
      "text/html": [
       "<div>\n",
       "<style scoped>\n",
       "    .dataframe tbody tr th:only-of-type {\n",
       "        vertical-align: middle;\n",
       "    }\n",
       "\n",
       "    .dataframe tbody tr th {\n",
       "        vertical-align: top;\n",
       "    }\n",
       "\n",
       "    .dataframe thead th {\n",
       "        text-align: right;\n",
       "    }\n",
       "</style>\n",
       "<table border=\"1\" class=\"dataframe\">\n",
       "  <thead>\n",
       "    <tr style=\"text-align: right;\">\n",
       "      <th></th>\n",
       "      <th>gender</th>\n",
       "      <th>race/ethnicity</th>\n",
       "      <th>parental level of education</th>\n",
       "      <th>lunch</th>\n",
       "      <th>test preparation course</th>\n",
       "      <th>math score</th>\n",
       "      <th>reading score</th>\n",
       "      <th>writing score</th>\n",
       "    </tr>\n",
       "  </thead>\n",
       "  <tbody>\n",
       "    <tr>\n",
       "      <th>515</th>\n",
       "      <td>female</td>\n",
       "      <td>group E</td>\n",
       "      <td>some college</td>\n",
       "      <td>standard</td>\n",
       "      <td>none</td>\n",
       "      <td>100</td>\n",
       "      <td>92</td>\n",
       "      <td>97</td>\n",
       "    </tr>\n",
       "    <tr>\n",
       "      <th>516</th>\n",
       "      <td>female</td>\n",
       "      <td>group E</td>\n",
       "      <td>bachelor's degree</td>\n",
       "      <td>standard</td>\n",
       "      <td>none</td>\n",
       "      <td>100</td>\n",
       "      <td>100</td>\n",
       "      <td>100</td>\n",
       "    </tr>\n",
       "    <tr>\n",
       "      <th>517</th>\n",
       "      <td>female</td>\n",
       "      <td>group E</td>\n",
       "      <td>associate's degree</td>\n",
       "      <td>standard</td>\n",
       "      <td>none</td>\n",
       "      <td>100</td>\n",
       "      <td>100</td>\n",
       "      <td>100</td>\n",
       "    </tr>\n",
       "    <tr>\n",
       "      <th>996</th>\n",
       "      <td>male</td>\n",
       "      <td>group A</td>\n",
       "      <td>some college</td>\n",
       "      <td>standard</td>\n",
       "      <td>completed</td>\n",
       "      <td>100</td>\n",
       "      <td>96</td>\n",
       "      <td>86</td>\n",
       "    </tr>\n",
       "    <tr>\n",
       "      <th>997</th>\n",
       "      <td>male</td>\n",
       "      <td>group D</td>\n",
       "      <td>some college</td>\n",
       "      <td>standard</td>\n",
       "      <td>completed</td>\n",
       "      <td>100</td>\n",
       "      <td>97</td>\n",
       "      <td>99</td>\n",
       "    </tr>\n",
       "    <tr>\n",
       "      <th>...</th>\n",
       "      <td>...</td>\n",
       "      <td>...</td>\n",
       "      <td>...</td>\n",
       "      <td>...</td>\n",
       "      <td>...</td>\n",
       "      <td>...</td>\n",
       "      <td>...</td>\n",
       "      <td>...</td>\n",
       "    </tr>\n",
       "    <tr>\n",
       "      <th>428</th>\n",
       "      <td>female</td>\n",
       "      <td>group D</td>\n",
       "      <td>some college</td>\n",
       "      <td>free/reduced</td>\n",
       "      <td>none</td>\n",
       "      <td>77</td>\n",
       "      <td>86</td>\n",
       "      <td>86</td>\n",
       "    </tr>\n",
       "    <tr>\n",
       "      <th>429</th>\n",
       "      <td>female</td>\n",
       "      <td>group E</td>\n",
       "      <td>some high school</td>\n",
       "      <td>standard</td>\n",
       "      <td>none</td>\n",
       "      <td>77</td>\n",
       "      <td>79</td>\n",
       "      <td>80</td>\n",
       "    </tr>\n",
       "    <tr>\n",
       "      <th>849</th>\n",
       "      <td>male</td>\n",
       "      <td>group A</td>\n",
       "      <td>bachelor's degree</td>\n",
       "      <td>standard</td>\n",
       "      <td>none</td>\n",
       "      <td>77</td>\n",
       "      <td>67</td>\n",
       "      <td>68</td>\n",
       "    </tr>\n",
       "    <tr>\n",
       "      <th>850</th>\n",
       "      <td>male</td>\n",
       "      <td>group C</td>\n",
       "      <td>associate's degree</td>\n",
       "      <td>free/reduced</td>\n",
       "      <td>none</td>\n",
       "      <td>77</td>\n",
       "      <td>67</td>\n",
       "      <td>64</td>\n",
       "    </tr>\n",
       "    <tr>\n",
       "      <th>851</th>\n",
       "      <td>male</td>\n",
       "      <td>group D</td>\n",
       "      <td>some college</td>\n",
       "      <td>standard</td>\n",
       "      <td>completed</td>\n",
       "      <td>77</td>\n",
       "      <td>62</td>\n",
       "      <td>62</td>\n",
       "    </tr>\n",
       "  </tbody>\n",
       "</table>\n",
       "<p>250 rows × 8 columns</p>\n",
       "</div>"
      ],
      "text/plain": [
       "     gender race/ethnicity parental level of education         lunch  \\\n",
       "515  female        group E                some college      standard   \n",
       "516  female        group E           bachelor's degree      standard   \n",
       "517  female        group E          associate's degree      standard   \n",
       "996    male        group A                some college      standard   \n",
       "997    male        group D                some college      standard   \n",
       "..      ...            ...                         ...           ...   \n",
       "428  female        group D                some college  free/reduced   \n",
       "429  female        group E            some high school      standard   \n",
       "849    male        group A           bachelor's degree      standard   \n",
       "850    male        group C          associate's degree  free/reduced   \n",
       "851    male        group D                some college      standard   \n",
       "\n",
       "    test preparation course  math score  reading score  writing score  \n",
       "515                    none         100             92             97  \n",
       "516                    none         100            100            100  \n",
       "517                    none         100            100            100  \n",
       "996               completed         100             96             86  \n",
       "997               completed         100             97             99  \n",
       "..                      ...         ...            ...            ...  \n",
       "428                    none          77             86             86  \n",
       "429                    none          77             79             80  \n",
       "849                    none          77             67             68  \n",
       "850                    none          77             67             64  \n",
       "851               completed          77             62             62  \n",
       "\n",
       "[250 rows x 8 columns]"
      ]
     },
     "execution_count": 65,
     "metadata": {},
     "output_type": "execute_result"
    }
   ],
   "source": [
    "Top_25=df.nlargest(250,\"math score\")\n",
    "Top_25"
   ]
  },
  {
   "cell_type": "code",
   "execution_count": 27,
   "id": "c19f589c",
   "metadata": {},
   "outputs": [],
   "source": [
    "# So we are able to find the to 25% of the student based on the math score, so now the management can easily give bonus to the students."
   ]
  },
  {
   "cell_type": "code",
   "execution_count": 70,
   "id": "8e03dc5d",
   "metadata": {
    "scrolled": true
   },
   "outputs": [
    {
     "data": {
      "text/html": [
       "<div>\n",
       "<style scoped>\n",
       "    .dataframe tbody tr th:only-of-type {\n",
       "        vertical-align: middle;\n",
       "    }\n",
       "\n",
       "    .dataframe tbody tr th {\n",
       "        vertical-align: top;\n",
       "    }\n",
       "\n",
       "    .dataframe thead th {\n",
       "        text-align: right;\n",
       "    }\n",
       "</style>\n",
       "<table border=\"1\" class=\"dataframe\">\n",
       "  <thead>\n",
       "    <tr style=\"text-align: right;\">\n",
       "      <th></th>\n",
       "      <th>math score</th>\n",
       "      <th>reading score</th>\n",
       "      <th>writing score</th>\n",
       "    </tr>\n",
       "  </thead>\n",
       "  <tbody>\n",
       "    <tr>\n",
       "      <th>count</th>\n",
       "      <td>1000.000000</td>\n",
       "      <td>1000.000000</td>\n",
       "      <td>1000.000000</td>\n",
       "    </tr>\n",
       "    <tr>\n",
       "      <th>mean</th>\n",
       "      <td>66.001000</td>\n",
       "      <td>69.195000</td>\n",
       "      <td>68.119000</td>\n",
       "    </tr>\n",
       "    <tr>\n",
       "      <th>std</th>\n",
       "      <td>15.569567</td>\n",
       "      <td>14.706436</td>\n",
       "      <td>15.226381</td>\n",
       "    </tr>\n",
       "    <tr>\n",
       "      <th>min</th>\n",
       "      <td>0.000000</td>\n",
       "      <td>17.000000</td>\n",
       "      <td>10.000000</td>\n",
       "    </tr>\n",
       "    <tr>\n",
       "      <th>25%</th>\n",
       "      <td>57.000000</td>\n",
       "      <td>59.000000</td>\n",
       "      <td>58.000000</td>\n",
       "    </tr>\n",
       "    <tr>\n",
       "      <th>50%</th>\n",
       "      <td>66.000000</td>\n",
       "      <td>70.000000</td>\n",
       "      <td>69.000000</td>\n",
       "    </tr>\n",
       "    <tr>\n",
       "      <th>75%</th>\n",
       "      <td>77.000000</td>\n",
       "      <td>79.250000</td>\n",
       "      <td>79.000000</td>\n",
       "    </tr>\n",
       "    <tr>\n",
       "      <th>max</th>\n",
       "      <td>100.000000</td>\n",
       "      <td>100.000000</td>\n",
       "      <td>100.000000</td>\n",
       "    </tr>\n",
       "  </tbody>\n",
       "</table>\n",
       "</div>"
      ],
      "text/plain": [
       "        math score  reading score  writing score\n",
       "count  1000.000000    1000.000000    1000.000000\n",
       "mean     66.001000      69.195000      68.119000\n",
       "std      15.569567      14.706436      15.226381\n",
       "min       0.000000      17.000000      10.000000\n",
       "25%      57.000000      59.000000      58.000000\n",
       "50%      66.000000      70.000000      69.000000\n",
       "75%      77.000000      79.250000      79.000000\n",
       "max     100.000000     100.000000     100.000000"
      ]
     },
     "execution_count": 70,
     "metadata": {},
     "output_type": "execute_result"
    }
   ],
   "source": [
    "df.describe()"
   ]
  },
  {
   "cell_type": "code",
   "execution_count": 76,
   "id": "4e35a7b5",
   "metadata": {},
   "outputs": [
    {
     "data": {
      "text/plain": [
       "57.0"
      ]
     },
     "execution_count": 76,
     "metadata": {},
     "output_type": "execute_result"
    }
   ],
   "source": [
    "df[\"math score\"].quantile(0.25)"
   ]
  },
  {
   "cell_type": "markdown",
   "id": "2703dc7a",
   "metadata": {},
   "source": [
    "## The End."
   ]
  },
  {
   "cell_type": "code",
   "execution_count": null,
   "id": "db1d58d3",
   "metadata": {},
   "outputs": [],
   "source": []
  }
 ],
 "metadata": {
  "kernelspec": {
   "display_name": "Python 3 (ipykernel)",
   "language": "python",
   "name": "python3"
  },
  "language_info": {
   "codemirror_mode": {
    "name": "ipython",
    "version": 3
   },
   "file_extension": ".py",
   "mimetype": "text/x-python",
   "name": "python",
   "nbconvert_exporter": "python",
   "pygments_lexer": "ipython3",
   "version": "3.9.12"
  }
 },
 "nbformat": 4,
 "nbformat_minor": 5
}
